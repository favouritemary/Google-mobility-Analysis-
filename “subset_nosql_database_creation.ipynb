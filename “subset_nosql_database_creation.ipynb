{
 "cells": [
  {
   "cell_type": "code",
   "execution_count": 2,
   "metadata": {
    "colab": {
     "base_uri": "https://localhost:8080/"
    },
    "executionInfo": {
     "elapsed": 7894,
     "status": "ok",
     "timestamp": 1694852334724,
     "user": {
      "displayName": "Mary Temmy",
      "userId": "02892290499282450921"
     },
     "user_tz": -600
    },
    "id": "jR4wXoIG7sI9",
    "outputId": "fac85900-7365-4dbe-f5a7-e2d9e4e87a4b"
   },
   "outputs": [
    {
     "name": "stdout",
     "output_type": "stream",
     "text": [
      "Collecting pymongo\n",
      "  Downloading pymongo-4.5.0-cp310-cp310-manylinux_2_17_x86_64.manylinux2014_x86_64.whl (671 kB)\n",
      "\u001b[2K     \u001b[90m━━━━━━━━━━━━━━━━━━━━━━━━━━━━━━━━━━━━━━━\u001b[0m \u001b[32m671.3/671.3 kB\u001b[0m \u001b[31m7.0 MB/s\u001b[0m eta \u001b[36m0:00:00\u001b[0m\n",
      "\u001b[?25hCollecting dnspython<3.0.0,>=1.16.0 (from pymongo)\n",
      "  Downloading dnspython-2.4.2-py3-none-any.whl (300 kB)\n",
      "\u001b[2K     \u001b[90m━━━━━━━━━━━━━━━━━━━━━━━━━━━━━━━━━━━━━━\u001b[0m \u001b[32m300.4/300.4 kB\u001b[0m \u001b[31m10.2 MB/s\u001b[0m eta \u001b[36m0:00:00\u001b[0m\n",
      "\u001b[?25hInstalling collected packages: dnspython, pymongo\n",
      "Successfully installed dnspython-2.4.2 pymongo-4.5.0\n"
     ]
    }
   ],
   "source": [
    "!pip3 install pymongo"
   ]
  },
  {
   "cell_type": "code",
   "execution_count": 3,
   "metadata": {
    "executionInfo": {
     "elapsed": 3,
     "status": "ok",
     "timestamp": 1694852334724,
     "user": {
      "displayName": "Mary Temmy",
      "userId": "02892290499282450921"
     },
     "user_tz": -600
    },
    "id": "KLfIepEw79WV"
   },
   "outputs": [],
   "source": [
    "import pymongo\n",
    "from pymongo import MongoClient\n",
    "import datetime"
   ]
  },
  {
   "cell_type": "code",
   "execution_count": 4,
   "metadata": {
    "executionInfo": {
     "elapsed": 3,
     "status": "ok",
     "timestamp": 1694852334724,
     "user": {
      "displayName": "Mary Temmy",
      "userId": "02892290499282450921"
     },
     "user_tz": -600
    },
    "id": "R0DXIcBx8B8U"
   },
   "outputs": [],
   "source": [
    "client=MongoClient(\"20.51.211.46\", 27000, username=\"admin\", password=\"abc123\")"
   ]
  },
  {
   "cell_type": "code",
   "execution_count": 5,
   "metadata": {
    "colab": {
     "base_uri": "https://localhost:8080/"
    },
    "executionInfo": {
     "elapsed": 358,
     "status": "ok",
     "timestamp": 1694852335079,
     "user": {
      "displayName": "Mary Temmy",
      "userId": "02892290499282450921"
     },
     "user_tz": -600
    },
    "id": "Rz8hlErt8EBz",
    "outputId": "487d5a9f-46f4-47f8-b541-e28b5cad9423"
   },
   "outputs": [
    {
     "data": {
      "text/plain": [
       "{'version': '7.0.0',\n",
       " 'gitVersion': '37d84072b5c5b9fd723db5fa133fb202ad2317f1',\n",
       " 'modules': [],\n",
       " 'allocator': 'tcmalloc',\n",
       " 'javascriptEngine': 'mozjs',\n",
       " 'sysInfo': 'deprecated',\n",
       " 'versionArray': [7, 0, 0, 0],\n",
       " 'openssl': {'running': 'OpenSSL 1.1.1f  31 Mar 2020',\n",
       "  'compiled': 'OpenSSL 1.1.1f  31 Mar 2020'},\n",
       " 'buildEnvironment': {'distmod': 'ubuntu2004',\n",
       "  'distarch': 'x86_64',\n",
       "  'cc': '/opt/mongodbtoolchain/v4/bin/gcc: gcc (GCC) 11.3.0',\n",
       "  'ccflags': '-Werror -include mongo/platform/basic.h -ffp-contract=off -fasynchronous-unwind-tables -g2 -Wall -Wsign-compare -Wno-unknown-pragmas -Winvalid-pch -gdwarf-5 -fno-omit-frame-pointer -fno-strict-aliasing -O2 -march=sandybridge -mtune=generic -mprefer-vector-width=128 -Wno-unused-local-typedefs -Wno-unused-function -Wno-deprecated-declarations -Wno-unused-const-variable -Wno-unused-but-set-variable -Wno-missing-braces -fstack-protector-strong -gdwarf64 -Wa,--nocompress-debug-sections -fno-builtin-memcmp -Wimplicit-fallthrough=5',\n",
       "  'cxx': '/opt/mongodbtoolchain/v4/bin/g++: g++ (GCC) 11.3.0',\n",
       "  'cxxflags': '-Woverloaded-virtual -Wpessimizing-move -Wno-maybe-uninitialized -fsized-deallocation -Wno-deprecated -std=c++20',\n",
       "  'linkflags': '-Wl,--fatal-warnings -B/opt/mongodbtoolchain/v4/bin -gdwarf-5 -pthread -Wl,-z,now -fuse-ld=lld -fstack-protector-strong -gdwarf64 -Wl,--build-id -Wl,--hash-style=gnu -Wl,-z,noexecstack -Wl,--warn-execstack -Wl,-z,relro -Wl,--compress-debug-sections=none -Wl,-z,origin -Wl,--enable-new-dtags',\n",
       "  'target_arch': 'x86_64',\n",
       "  'target_os': 'linux',\n",
       "  'cppdefines': 'SAFEINT_USE_INTRINSICS 0 PCRE2_STATIC NDEBUG _XOPEN_SOURCE 700 _GNU_SOURCE _FORTIFY_SOURCE 2 ABSL_FORCE_ALIGNED_ACCESS BOOST_ENABLE_ASSERT_DEBUG_HANDLER BOOST_FILESYSTEM_NO_CXX20_ATOMIC_REF BOOST_LOG_NO_SHORTHAND_NAMES BOOST_LOG_USE_NATIVE_SYSLOG BOOST_LOG_WITHOUT_THREAD_ATTR BOOST_MATH_NO_LONG_DOUBLE_MATH_FUNCTIONS BOOST_SYSTEM_NO_DEPRECATED BOOST_THREAD_USES_DATETIME BOOST_THREAD_VERSION 5'},\n",
       " 'bits': 64,\n",
       " 'debug': False,\n",
       " 'maxBsonObjectSize': 16777216,\n",
       " 'storageEngines': ['devnull', 'wiredTiger'],\n",
       " 'ok': 1.0}"
      ]
     },
     "execution_count": 5,
     "metadata": {},
     "output_type": "execute_result"
    }
   ],
   "source": [
    "client.server_info()\n"
   ]
  },
  {
   "cell_type": "markdown",
   "metadata": {
    "id": "CQFHSGuxBO8o"
   },
   "source": [
    "gmr database was created on MongoDB\n",
    "\n",
    "The Google Mobility data was imported into a collection named mobility in the assignment database using the code \" mongoimport --db gmr --collection employees --type csv --file employees.csv --host \"20.51.211.46:27000\" --headerline\""
   ]
  },
  {
   "cell_type": "code",
   "execution_count": 6,
   "metadata": {
    "colab": {
     "base_uri": "https://localhost:8080/"
    },
    "executionInfo": {
     "elapsed": 2,
     "status": "ok",
     "timestamp": 1694852337024,
     "user": {
      "displayName": "Mary Temmy",
      "userId": "02892290499282450921"
     },
     "user_tz": -600
    },
    "id": "Gjmxqay38Hnl",
    "outputId": "0e13561c-2318-4fd8-bcd1-74a163ce9c33"
   },
   "outputs": [
    {
     "data": {
      "text/plain": [
       "['admin', 'config', 'gmr', 'local']"
      ]
     },
     "execution_count": 6,
     "metadata": {},
     "output_type": "execute_result"
    }
   ],
   "source": [
    "client.list_database_names() #check the list of database available"
   ]
  },
  {
   "cell_type": "code",
   "execution_count": 7,
   "metadata": {
    "colab": {
     "base_uri": "https://localhost:8080/"
    },
    "executionInfo": {
     "elapsed": 3,
     "status": "ok",
     "timestamp": 1694852338072,
     "user": {
      "displayName": "Mary Temmy",
      "userId": "02892290499282450921"
     },
     "user_tz": -600
    },
    "id": "38aMOd_m8hq_",
    "outputId": "86e172c5-0051-4164-899b-0f61a9164ec4"
   },
   "outputs": [
    {
     "data": {
      "text/plain": [
       "Database(MongoClient(host=['20.51.211.46:27000'], document_class=dict, tz_aware=False, connect=True), 'gmr')"
      ]
     },
     "execution_count": 7,
     "metadata": {},
     "output_type": "execute_result"
    }
   ],
   "source": [
    "# access the database containing the required data\n",
    "coviddb=client['gmr']\n",
    "coviddb"
   ]
  },
  {
   "cell_type": "code",
   "execution_count": 8,
   "metadata": {
    "colab": {
     "base_uri": "https://localhost:8080/"
    },
    "executionInfo": {
     "elapsed": 2,
     "status": "ok",
     "timestamp": 1694852338989,
     "user": {
      "displayName": "Mary Temmy",
      "userId": "02892290499282450921"
     },
     "user_tz": -600
    },
    "id": "6gXciOA69wld",
    "outputId": "c509a29e-79e9-48f4-809a-1513901bed7d"
   },
   "outputs": [
    {
     "data": {
      "text/plain": [
       "Collection(Database(MongoClient(host=['20.51.211.46:27000'], document_class=dict, tz_aware=False, connect=True), 'gmr'), 'Mobility')"
      ]
     },
     "execution_count": 8,
     "metadata": {},
     "output_type": "execute_result"
    }
   ],
   "source": [
    "# access collection containing all the data\n",
    "Mobility=coviddb['Mobility']\n",
    "Mobility"
   ]
  },
  {
   "cell_type": "code",
   "execution_count": null,
   "metadata": {
    "id": "MtDvG4EX6-k-"
   },
   "outputs": [],
   "source": [
    "# Create collection that contains data for only Australia\n",
    "\n",
    "Mobility = coviddb[\"Mobility\"]\n",
    "Australia = coviddb[\"Australia\"]\n",
    "\n",
    "filter_criteria = {\"country\": \"Australia\"}\n",
    "\n",
    "aus_data = Mobility.find(filter_criteria)\n",
    "\n",
    "Australia.insert_many(aus_data)"
   ]
  },
  {
   "cell_type": "code",
   "execution_count": null,
   "metadata": {
    "id": "yWV2Ik82d7XN"
   },
   "outputs": [],
   "source": [
    "## Remove unwanted fields from Australia collection\n",
    "\n",
    "fields_to_remove = ['country_region_code', 'metro_area', 'iso_3166_2_code', 'census_fips_code', 'place_id'] #list of field names to remove\n",
    "\n",
    "for field in fields_to_remove:\n",
    "    Australia.update_many({}, {\"$unset\": {field: 1}}) # Looping through the documents in the collection to remove the specified fields\n",
    "\n"
   ]
  },
  {
   "cell_type": "code",
   "execution_count": null,
   "metadata": {
    "id": "jthPnrybiybR"
   },
   "outputs": [],
   "source": [
    "# Rename some of the fields\n",
    "\n",
    "field_rename_mapping = {\n",
    "    \"country_region\": \"country\",\n",
    "    \"sub_region_1\": \"state\",\n",
    "    \"sub_region_2\": \"region\",\n",
    "    \"retail_and_recreation_percent_change_from_baseline\": \"retail_and_recreation\",\n",
    "    \"grocery_and_pharmacy_percent_change_from_baseline\": \"grocery_and_pharmacy\",\n",
    "    \"parks_percent_change_from_baseline\": \"parks\",\n",
    "    \"transit_stations_percent_change_from_baseline\": \"transit_stations\",\n",
    "    \"workplaces_percent_change_from_baseline\":\"workplaces\",\n",
    "    \"residential_percent_change_from_baseline\":\"residential\"\n",
    "}\n",
    "\n",
    "for old_field, new_field in field_rename_mapping.items():\n",
    "    Australia.update_many({}, {\"$rename\": {old_field: new_field}}) # Looping through the mapping to rename fields\n",
    "\n"
   ]
  },
  {
   "cell_type": "code",
   "execution_count": null,
   "metadata": {
    "colab": {
     "base_uri": "https://localhost:8080/"
    },
    "executionInfo": {
     "elapsed": 22008,
     "status": "ok",
     "timestamp": 1694639178813,
     "user": {
      "displayName": "Mary Temmy",
      "userId": "02892290499282450921"
     },
     "user_tz": -600
    },
    "id": "CEBx8sf8VqOg",
    "outputId": "8d1291f0-1ef0-42ac-bc0a-076efa856ddf"
   },
   "outputs": [
    {
     "data": {
      "text/plain": [
       "<pymongo.results.UpdateResult at 0x781fcc11ad70>"
      ]
     },
     "execution_count": 42,
     "metadata": {},
     "output_type": "execute_result"
    }
   ],
   "source": [
    "# convert date to datetime datatype\n",
    "\n",
    "Australia=coviddb['Australia']\n",
    "\n",
    "# change the datatype of date to datetime\n",
    "old_date = \"date\"\n",
    "\n",
    "# Update documents to change the datatype of the date field to datetime\n",
    "Australia.update_many({}, [\n",
    "    {\"$set\": {\"new_date\": {\"$toDate\": \"$\" + old_date}}},\n",
    "    {\"$unset\":\"date\"}\n",
    "])\n"
   ]
  },
  {
   "cell_type": "code",
   "execution_count": null,
   "metadata": {
    "id": "Q9sGQkaqB1qY"
   },
   "outputs": [],
   "source": [
    "Australia=coviddb['Australia']\n",
    "Australia.update_many({}, {\"$unset\": {\"country\": \"\"}})"
   ]
  },
  {
   "cell_type": "code",
   "execution_count": null,
   "metadata": {
    "id": "ikTfQl_FWPlw"
   },
   "outputs": [],
   "source": [
    "list(Australia.find())"
   ]
  },
  {
   "cell_type": "markdown",
   "metadata": {
    "id": "3T0DMe9IHjM5"
   },
   "source": [
    "#### Create collection for the cities in each Australian states"
   ]
  },
  {
   "cell_type": "code",
   "execution_count": null,
   "metadata": {
    "colab": {
     "base_uri": "https://localhost:8080/"
    },
    "executionInfo": {
     "elapsed": 409,
     "status": "ok",
     "timestamp": 1694762096011,
     "user": {
      "displayName": "Mary Temmy",
      "userId": "02892290499282450921"
     },
     "user_tz": -600
    },
    "id": "ADgNr5_mPnD8",
    "outputId": "9fdc3b5a-87f9-4049-8a4f-eeb15ab33d0c"
   },
   "outputs": [
    {
     "data": {
      "text/plain": [
       "<pymongo.results.InsertManyResult at 0x7f5046a9aa40>"
      ]
     },
     "execution_count": 8,
     "metadata": {},
     "output_type": "execute_result"
    }
   ],
   "source": [
    "# Create collection that contains only data for Brisbane, Queensland\n",
    "\n",
    "Australia = coviddb[\"Australia\"]\n",
    "brs = coviddb[\"Brisbane\"]\n",
    "\n",
    "filter_criteria = {\"state\": \"Queensland\", \"region\": \"Brisbane City\"}\n",
    "\n",
    "aus_data = Australia.find(filter_criteria)\n",
    "\n",
    "brs.insert_many(aus_data)\n",
    "brs.update_many({}, {\"$unset\": {\"state\": \"\"}})"
   ]
  },
  {
   "cell_type": "code",
   "execution_count": null,
   "metadata": {
    "colab": {
     "base_uri": "https://localhost:8080/"
    },
    "executionInfo": {
     "elapsed": 547,
     "status": "ok",
     "timestamp": 1694762101532,
     "user": {
      "displayName": "Mary Temmy",
      "userId": "02892290499282450921"
     },
     "user_tz": -600
    },
    "id": "QjA50T1TQ2qD",
    "outputId": "b8a5c354-f1d7-405f-f4c3-72fa810cacb0"
   },
   "outputs": [
    {
     "data": {
      "text/plain": [
       "<pymongo.results.InsertManyResult at 0x7f5046a9b0a0>"
      ]
     },
     "execution_count": 9,
     "metadata": {},
     "output_type": "execute_result"
    }
   ],
   "source": [
    "# Create collection that contains only data for Hobart, Tasmania\n",
    "\n",
    "Australia = coviddb[\"Australia\"]\n",
    "hob = coviddb[\"Hobart\"]\n",
    "\n",
    "filter_criteria = {\"state\": \"Tasmania\", \"region\":\"City of Hobart\"}\n",
    "\n",
    "aus_data = Australia.find(filter_criteria)\n",
    "\n",
    "hob.insert_many(aus_data)\n",
    "hob.update_many({}, {\"$unset\": {\"state\": \"\"}})"
   ]
  },
  {
   "cell_type": "code",
   "execution_count": null,
   "metadata": {
    "colab": {
     "base_uri": "https://localhost:8080/"
    },
    "executionInfo": {
     "elapsed": 420,
     "status": "ok",
     "timestamp": 1694762106392,
     "user": {
      "displayName": "Mary Temmy",
      "userId": "02892290499282450921"
     },
     "user_tz": -600
    },
    "id": "_urLfAyBRcis",
    "outputId": "a0855799-1e81-4cb1-87ce-ebb65d76f8bd"
   },
   "outputs": [
    {
     "data": {
      "text/plain": [
       "<pymongo.results.InsertManyResult at 0x7f50460967d0>"
      ]
     },
     "execution_count": 10,
     "metadata": {},
     "output_type": "execute_result"
    }
   ],
   "source": [
    "# Create collection that contains only data for Perth, WA\n",
    "\n",
    "Australia = coviddb[\"Australia\"]\n",
    "pet = coviddb[\"Perth\"]\n",
    "\n",
    "filter_criteria = {\"state\": \"Western Australia\", \"region\":\"City of Perth\"}\n",
    "\n",
    "aus_data = Australia.find(filter_criteria)\n",
    "\n",
    "pet.insert_many(aus_data)\n",
    "pet.update_many({}, {\"$unset\": {\"state\": \"\"}})"
   ]
  },
  {
   "cell_type": "code",
   "execution_count": null,
   "metadata": {
    "colab": {
     "base_uri": "https://localhost:8080/"
    },
    "executionInfo": {
     "elapsed": 410,
     "status": "ok",
     "timestamp": 1694762112631,
     "user": {
      "displayName": "Mary Temmy",
      "userId": "02892290499282450921"
     },
     "user_tz": -600
    },
    "id": "fwFwBX4jSOVk",
    "outputId": "fcfeb1ed-30fb-4397-e269-b4cc50396bb7"
   },
   "outputs": [
    {
     "data": {
      "text/plain": [
       "<pymongo.results.InsertManyResult at 0x7f50460b7fd0>"
      ]
     },
     "execution_count": 11,
     "metadata": {},
     "output_type": "execute_result"
    }
   ],
   "source": [
    "# Create collection that contains only data for Adelaide, Queensland\n",
    "\n",
    "Australia = coviddb[\"Australia\"]\n",
    "adl = coviddb[\"Adelaide\"]\n",
    "\n",
    "filter_criteria = {\"state\": \"South Australia\", \"region\":\"Adelaide City Council\"}\n",
    "\n",
    "aus_data = Australia.find(filter_criteria)\n",
    "\n",
    "adl.insert_many(aus_data)\n",
    "adl.update_many({}, {\"$unset\": {\"state\": \"\"}})"
   ]
  },
  {
   "cell_type": "code",
   "execution_count": null,
   "metadata": {
    "colab": {
     "base_uri": "https://localhost:8080/"
    },
    "executionInfo": {
     "elapsed": 441,
     "status": "ok",
     "timestamp": 1694762119315,
     "user": {
      "displayName": "Mary Temmy",
      "userId": "02892290499282450921"
     },
     "user_tz": -600
    },
    "id": "H7cKIo0jSpaz",
    "outputId": "47bc1377-ded4-43f4-c9e6-c260c69e6db5"
   },
   "outputs": [
    {
     "data": {
      "text/plain": [
       "<pymongo.results.InsertManyResult at 0x7f50460d9e70>"
      ]
     },
     "execution_count": 12,
     "metadata": {},
     "output_type": "execute_result"
    }
   ],
   "source": [
    "# Create collection that contains only data for Sydney, NSW\n",
    "\n",
    "Australia = coviddb[\"Australia\"]\n",
    "syd = coviddb[\"Sydney\"]\n",
    "\n",
    "filter_criteria = {\"state\": \"New South Wales\", \"region\":\"City of Sydney\"}\n",
    "\n",
    "aus_data = Australia.find(filter_criteria)\n",
    "\n",
    "syd.insert_many(aus_data)\n",
    "syd.update_many({}, {\"$unset\": {\"state\": \"\"}})"
   ]
  },
  {
   "cell_type": "code",
   "execution_count": null,
   "metadata": {
    "colab": {
     "base_uri": "https://localhost:8080/"
    },
    "executionInfo": {
     "elapsed": 876,
     "status": "ok",
     "timestamp": 1694641098893,
     "user": {
      "displayName": "Mary Temmy",
      "userId": "02892290499282450921"
     },
     "user_tz": -600
    },
    "id": "vjGUIzXZq8lO",
    "outputId": "8b038021-6b2a-4ca6-9d08-1b365b721402"
   },
   "outputs": [
    {
     "data": {
      "text/plain": [
       "<pymongo.results.InsertManyResult at 0x781fb976cb50>"
      ]
     },
     "execution_count": 64,
     "metadata": {},
     "output_type": "execute_result"
    }
   ],
   "source": [
    "# Create collection that contains only data for ACT\n",
    "\n",
    "Australia = coviddb[\"Australia\"]\n",
    "act = coviddb[\"Australian Capital Territory\"]\n",
    "\n",
    "filter_criteria = {\"state\": \"Australian Capital Territory\"}\n",
    "\n",
    "aus_data = Australia.find(filter_criteria)\n",
    "\n",
    "act.insert_many(aus_data)\n",
    "act.update_many({}, {\"$unset\": {\"state\": \"\"}})"
   ]
  },
  {
   "cell_type": "code",
   "execution_count": null,
   "metadata": {
    "colab": {
     "base_uri": "https://localhost:8080/"
    },
    "executionInfo": {
     "elapsed": 536,
     "status": "ok",
     "timestamp": 1694762131188,
     "user": {
      "displayName": "Mary Temmy",
      "userId": "02892290499282450921"
     },
     "user_tz": -600
    },
    "id": "JlYgIq-VTnW4",
    "outputId": "e7e5e134-e662-4658-e61e-6301472ff78b"
   },
   "outputs": [
    {
     "data": {
      "text/plain": [
       "<pymongo.results.InsertManyResult at 0x7f5045fbd540>"
      ]
     },
     "execution_count": 13,
     "metadata": {},
     "output_type": "execute_result"
    }
   ],
   "source": [
    "# Create collection that contains only data for Darwin, Northern Territory\n",
    "\n",
    "Australia = coviddb[\"Australia\"]\n",
    "dwn = coviddb[\"Darwin\"]\n",
    "\n",
    "filter_criteria = {\"state\": \"Northern Territory\", \"region\":\"City of Darwin\"}\n",
    "\n",
    "aus_data = Australia.find(filter_criteria)\n",
    "\n",
    "dwn.insert_many(aus_data)\n",
    "dwn.update_many({}, {\"$unset\": {\"state\": \"\"}})"
   ]
  },
  {
   "cell_type": "code",
   "execution_count": null,
   "metadata": {
    "colab": {
     "base_uri": "https://localhost:8080/"
    },
    "executionInfo": {
     "elapsed": 404,
     "status": "ok",
     "timestamp": 1694762141303,
     "user": {
      "displayName": "Mary Temmy",
      "userId": "02892290499282450921"
     },
     "user_tz": -600
    },
    "id": "hSY8KWS4UFIS",
    "outputId": "efb6b81a-5ac7-4464-d30f-ab3b6c8e8a64"
   },
   "outputs": [
    {
     "data": {
      "text/plain": [
       "<pymongo.results.InsertManyResult at 0x7f5045fca140>"
      ]
     },
     "execution_count": 14,
     "metadata": {},
     "output_type": "execute_result"
    }
   ],
   "source": [
    "# Create collection that contains only data for Melbourne, Victoria\n",
    "\n",
    "Australia = coviddb[\"Australia\"]\n",
    "mel = coviddb[\"Melbourne\"]\n",
    "\n",
    "filter_criteria = {\"state\": \"Victoria\", \"region\":\"City of Melbourne\"}\n",
    "\n",
    "aus_data = Australia.find(filter_criteria)\n",
    "\n",
    "mel.insert_many(aus_data)\n",
    "mel.update_many({}, {\"$unset\": {\"state\": \"\"}})"
   ]
  },
  {
   "cell_type": "code",
   "execution_count": 9,
   "metadata": {
    "colab": {
     "base_uri": "https://localhost:8080/"
    },
    "executionInfo": {
     "elapsed": 355,
     "status": "ok",
     "timestamp": 1694852419585,
     "user": {
      "displayName": "Mary Temmy",
      "userId": "02892290499282450921"
     },
     "user_tz": -600
    },
    "id": "IWD_OmuORQKI",
    "outputId": "af18f64e-9cf6-4cfd-b539-da37c7262e86"
   },
   "outputs": [
    {
     "name": "stdout",
     "output_type": "stream",
     "text": [
      "Melbourne\n",
      "Sydney\n",
      "Australian Capital Territory\n",
      "Perth\n",
      "Hobart\n",
      "Darwin\n",
      "Australia\n",
      "Brisbane\n",
      "Mobility\n",
      "Adelaide\n"
     ]
    }
   ],
   "source": [
    "# To view all the created collections\n",
    "\n",
    "list_of_collections = coviddb.list_collection_names()\n",
    "\n",
    "# Print the list of collection names\n",
    "for collection_lists in list_of_collections:\n",
    "    print(collection_lists)"
   ]
  },
  {
   "cell_type": "code",
   "execution_count": null,
   "metadata": {
    "id": "tlyjD3gBSGUK"
   },
   "outputs": [],
   "source": []
  }
 ],
 "metadata": {
  "colab": {
   "authorship_tag": "ABX9TyOnSw9DNk3KRM8N3iu5MpCw",
   "provenance": []
  },
  "kernelspec": {
   "display_name": "Python 3 (ipykernel)",
   "language": "python",
   "name": "python3"
  },
  "language_info": {
   "codemirror_mode": {
    "name": "ipython",
    "version": 3
   },
   "file_extension": ".py",
   "mimetype": "text/x-python",
   "name": "python",
   "nbconvert_exporter": "python",
   "pygments_lexer": "ipython3",
   "version": "3.9.13"
  }
 },
 "nbformat": 4,
 "nbformat_minor": 1
}
